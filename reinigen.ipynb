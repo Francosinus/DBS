{
 "cells": [
  {
   "cell_type": "code",
   "execution_count": 7,
   "metadata": {},
   "outputs": [
    {
     "name": "stdout",
     "output_type": "stream",
     "text": [
      "             name  anzahl\n",
      "0        RNCInCLE       3\n",
      "1  HillaryClinton       1\n",
      "2    DivoDeJuarez       1\n",
      "3         NewYork       1\n",
      "4       Obamacare       4\n",
      "   t_id  h_id\n",
      "0     5   137\n",
      "1    10   427\n",
      "2    10   122\n",
      "3    12    53\n",
      "4    14   363\n"
     ]
    }
   ],
   "source": [
    "hashtag = pd.DataFrame(columns=['name','anzahl'])#neuer Datensatz mit name und anzahl(hauefigkeit)\n",
    "df_1 = df_new[df_new['text'].str.contains(\"#\")]#nur den inhalt aus text behalten, der rauten enthaelt\n",
    "hashtag['name'] = df_1['text']\n",
    "\n",
    "\n",
    "hashtag.reset_index(drop=True)#verwerfen den Index, da 2 verschiedene hashtags in einem tweet verschiedene ids haben muessen\n",
    "\n",
    "hashi=re.compile(r\"#([a-zA-Z0-9]+)\")#raute soll nicht gespeichert werden\n",
    "\n",
    "tags=[]#liste erstellen\n",
    "\n",
    "for i in hashtag['name']:#speichert eintreage in einer liste\n",
    "\ttags += [hashi.findall(i)]\n",
    "\n",
    "sethash = set()#set erstellen und mit hashtags fuellen\n",
    "for l in tags:\n",
    "    for i in l:\n",
    "\tsethash.add(i)\n",
    "\n",
    "df_tags = pd.DataFrame(columns=['name','anzahl'])#neuer datensatz\n",
    "df_tags['name'] = list(sethash)#fuellen mit hashtags\n",
    "\n",
    "\n",
    "def count(hashtags): #zaehlt wie oft der hashtag vorkommt\n",
    "    count = 0\n",
    "    for l in tags:\n",
    "        if hashtags in l:\n",
    "            count += 1\n",
    "    return count\n",
    "\n",
    "df_tags.anzahl = df_tags.name.apply(count)\n",
    "\n",
    "print(df_tags.head())\n",
    "\n",
    "df_tags.to_csv('hashtags.csv',sep=';')#speichern\n",
    "\n",
    "\n",
    "\n",
    "df_contains = pd.DataFrame(columns=['t_id','h_id'])#neuer contains datensatz\n",
    "\n",
    "cont = df_new[df_new['text'].str.contains(\"#\")]\n",
    "cont2 = cont.drop(['handle','time','retweet_count','favorite_count'],axis=1)\n",
    "cont2['text'] = tags\n",
    "\n",
    "cont2.drop(cont2.index[len(cont2)-1])#reihe mit leerem hashtag loeschen\n",
    "\n",
    "indexe=[]#liste erstellen\n",
    "for idx, x in cont2['text'].iteritems():#hashtags tweet id hinzufuegen\n",
    "    for k in x:\n",
    "\tindexe.append(idx)\n",
    "indices = []#noch eine liste\n",
    "for l in cont2['text']:#fue jeden hashtag die hashtag id einfuegen\n",
    "    for m in l:\n",
    "        indices.append(df_tags[df_tags['name'] == m].index.tolist())\n",
    "\n",
    "\n",
    "df_contains['h_id'] = [lis[0] for lis in indices]#in entsprechender zeile speichern\n",
    "\n",
    "df_contains['t_id'] = indexe\n",
    "\n",
    "print(df_contains.head())\n",
    "\n",
    "df_contains.to_csv('contains.csv', sep=';')#speichern \n"
   ]
  },
  {
   "cell_type": "code",
   "execution_count": 5,
   "metadata": {},
   "outputs": [
    {
     "name": "stdout",
     "output_type": "stream",
     "text": [
      "           handle                                               text  \\\n",
      "0  HillaryClinton  The question in this election: Who can put the...   \n",
      "1  HillaryClinton  Last night, Donald Trump said not paying taxes...   \n",
      "2  HillaryClinton  Couldn't be more proud of @HillaryClinton. Her...   \n",
      "3  HillaryClinton  If we stand together, there's nothing we can't...   \n",
      "4  HillaryClinton  Both candidates were asked about how they'd co...   \n",
      "\n",
      "                  time  retweet_count  favorite_count  \n",
      "0  2016-09-28 00:22:34            218             651  \n",
      "1  2016-09-27 23:45:00           2445            5308  \n",
      "2  2016-09-27 23:26:40           7834           27234  \n",
      "3  2016-09-27 23:08:41            916            2542  \n",
      "4  2016-09-27 22:30:27            859            2882  \n"
     ]
    }
   ],
   "source": [
    "import pandas as pd\n",
    "import numpy as np\n",
    "import re\n",
    "\n",
    "\n",
    "df=pd.read_csv(\"/home/franko/Iter3/new-american-election.csv\", delimiter=\";\", names=['handle','text','original_author','time','retweet_count','favorite_count'],header=None)\n",
    "\n",
    "df_new=df.drop(['original_author'],axis=1)#zeile entfertnt\n",
    "\n",
    "print(df_new.head())\n",
    "\n",
    "df_new.to_csv(\"/home/franko/Iter3/american-election.csv\",sep=';')#speichern"
   ]
  },
  {
   "cell_type": "code",
   "execution_count": 6,
   "metadata": {},
   "outputs": [
    {
     "name": "stdout",
     "output_type": "stream",
     "text": [
      "             name  anzahl\n",
      "0        RNCInCLE       3\n",
      "1  HillaryClinton       1\n",
      "2    DivoDeJuarez       1\n",
      "3         NewYork       1\n",
      "4       Obamacare       4\n"
     ]
    }
   ],
   "source": [
    "hashtag = pd.DataFrame(columns=['name','anzahl'])#neuer Datensatz mit name und anzahl(hauefigkeit)\n",
    "df_1 = df_new[df_new['text'].str.contains(\"#\")]#nur den inhalt aus text behalten, der rauten enthaelt\n",
    "hashtag['name'] = df_1['text']\n",
    "\n",
    "\n",
    "hashtag.reset_index(drop=True)#verwerfen den Index, da 2 verschiedene hashtags in einem tweet verschiedene ids haben muessen\n",
    "\n",
    "hashi=re.compile(r\"#([a-zA-Z0-9]+)\")#raute soll nicht gespeichert werden\n",
    "\n",
    "tags=[]#liste erstellen\n",
    "\n",
    "for i in hashtag['name']:#speichert eintreage in einer liste\n",
    "\ttags += [hashi.findall(i)]\n",
    "\n",
    "sethash = set()#set erstellen und mit hashtags fuellen\n",
    "for l in tags:\n",
    "    for i in l:\n",
    "\tsethash.add(i)\n",
    "\n",
    "df_tags = pd.DataFrame(columns=['name','anzahl'])#neuer datensatz\n",
    "df_tags['name'] = list(sethash)#fuellen mit hashtags\n",
    "\n",
    "\n",
    "def count(hashtags): #zaehlt wie oft der hashtag vorkommt\n",
    "    count = 0\n",
    "    for l in tags:\n",
    "        if hashtags in l:\n",
    "            count += 1\n",
    "    return count\n",
    "\n",
    "df_tags.anzahl = df_tags.name.apply(count)\n",
    "\n",
    "print(df_tags.head())\n",
    "\n",
    "df_tags.to_csv('hashtags.csv',sep=';')#speichern\n"
   ]
  },
  {
   "cell_type": "code",
   "execution_count": 8,
   "metadata": {},
   "outputs": [
    {
     "name": "stdout",
     "output_type": "stream",
     "text": [
      "   t_id  h_id\n",
      "0     5   137\n",
      "1    10   427\n",
      "2    10   122\n",
      "3    12    53\n",
      "4    14   363\n"
     ]
    }
   ],
   "source": [
    "\n",
    "df_contains = pd.DataFrame(columns=['t_id','h_id'])#neuer contains datensatz\n",
    "\n",
    "cont = df_new[df_new['text'].str.contains(\"#\")]\n",
    "cont2 = cont.drop(['handle','time','retweet_count','favorite_count'],axis=1)\n",
    "cont2['text'] = tags\n",
    "\n",
    "cont2.drop(cont2.index[len(cont2)-1])#reihe mit leerem hashtag loeschen\n",
    "\n",
    "indexe=[]#liste erstellen\n",
    "for idx, x in cont2['text'].iteritems():#hashtags tweet id hinzufuegen\n",
    "    for k in x:\n",
    "\tindexe.append(idx)\n",
    "indices = []#noch eine liste\n",
    "for l in cont2['text']:#fue jeden hashtag die hashtag id einfuegen\n",
    "    for m in l:\n",
    "        indices.append(df_tags[df_tags['name'] == m].index.tolist())\n",
    "\n",
    "\n",
    "df_contains['h_id'] = [lis[0] for lis in indices]#in entsprechender zeile speichern\n",
    "\n",
    "df_contains['t_id'] = indexe\n",
    "\n",
    "print(df_contains.head())\n",
    "\n",
    "df_contains.to_csv('contains.csv', sep=';')#speichern "
   ]
  },
  {
   "cell_type": "code",
   "execution_count": 9,
   "metadata": {},
   "outputs": [
    {
     "name": "stdout",
     "output_type": "stream",
     "text": [
      "   h_id1  h_id2\n",
      "0    427    122\n",
      "1    406    137\n",
      "2     81     53\n",
      "3    104     81\n",
      "4    299    330\n"
     ]
    }
   ],
   "source": [
    "df_pairs = pd.DataFrame(columns=['h_id1','h_id2'])#jetzt noch paarweises auftreten \n",
    "\n",
    "\n",
    "def contains_tupel(x,y):#gucken ob hashtags auch in anderer reihenfolge auftreten\n",
    "    for i in range(len(h_id1)):\n",
    "        if h_id1[i]==x and h_id2[i]==y:\n",
    "            return i\n",
    "    return None\n",
    "\n",
    "h_id1 = []\n",
    "h_id2 = []\n",
    "\n",
    "#durch die tweet liste gehen und wenn tweet mehr als einen hashtag enthaelt->contains_tupel\n",
    "#fuege jeweils in listen ein\n",
    "for idx,x in cont2['text'].iteritems():\n",
    "    if len(x) >= 2:\n",
    "        i=0\n",
    "        while i<len(x):\n",
    "            j=i+1\n",
    "            while j<len(x):\n",
    "                id1 = df_tags[df_tags['name'] == x[i]].index.tolist()\n",
    "                id2 = df_tags[df_tags['name'] == x[j]].index.tolist()\n",
    "                if contains_tupel(id1[0],id2[0])is not None:\n",
    "                    index = contains_tupel(id1,id2)\n",
    "                elif contains_tupel(id2[0],id1[0])is not None:\n",
    "                    index = contains_tupel(id2,id1)\n",
    "                else:\n",
    "                    h_id1.append(id1[0])\n",
    "                    h_id2.append(id2[0])\n",
    "                j += 1\n",
    "\t    i +=1\n",
    "\n",
    "#listen in datensatz\n",
    "df_pairs['h_id1'] = h_id1\n",
    "df_pairs['h_id2'] = h_id2\n",
    "\n",
    "df_pairs.to_csv('paare.csv',sep=';')\n",
    "print(df_pairs.head())"
   ]
  }
 ],
 "metadata": {
  "kernelspec": {
   "display_name": "Python 2",
   "language": "python",
   "name": "python2"
  },
  "language_info": {
   "codemirror_mode": {
    "name": "ipython",
    "version": 2
   },
   "file_extension": ".py",
   "mimetype": "text/x-python",
   "name": "python",
   "nbconvert_exporter": "python",
   "pygments_lexer": "ipython2",
   "version": "2.7.12"
  }
 },
 "nbformat": 4,
 "nbformat_minor": 2
}
