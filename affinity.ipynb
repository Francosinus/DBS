{
 "cells": [
  {
   "cell_type": "code",
   "execution_count": 1,
   "metadata": {},
   "outputs": [
    {
     "name": "stdout",
     "output_type": "stream",
     "text": [
      " - *VoterRegistrationDay:* NationalVoterRegistrationDay, VoterRegistrationDay\n",
      " - *MakeAmericaGreatAgain:* MakeAmericaGreatAgain, MakeYoutubeGreatAgain, makeamericagreatagain\n",
      " - *debatenight:* DebateNight, Debates2016, FallonTonight, Srebrenica, debatenight\n",
      " - *TrumpPence16:* TrumpCountry, TrumpForPresident, TrumpMovement, TrumpPence16, TrumpPence2016\n",
      " - *ImWithYou:* ImWithHer, ImWithYou, Statehood, TrumpIsWithYou, imwithher\n",
      " - *MyTeacherIsWeird:* MyTeacherIsWeird\n",
      " - *VoteTrump:* AlwaysTrump, LoveTrumpsHate, MeetTheTrumps, TeamTrump, VoteTrump, VoteTrump2016, VoteTrumpNH, VoteTrumpNV, VoteTrumpNY, VoteTrumpNYhttps, VoteTrumpSC, VoteTrumpWI, VoterFraud, VotersSpeak, WeWantTrump, Women4Ttump, presidenttrump, veterans\n",
      " - *BlacksForTrump:* BikersForTrump, BlackMenForBernie, BlacksForTrump, CaucusForTrump, Teachers4Trump\n",
      " - *Rio2016:* 2016, LeadRight2016, RTM2016, Rio2016, TRUMP2016\n",
      " - *DemConvention:* DemConvention, GOPConvention, OpeningCeremony, SecondAmendment, TheTonightShow\n",
      " - *MSM:* Bush, ECONOMY, GOP, ICYMI, ISIS, LESM, LSSC, MAGA, MSM, NASCAR, Pulse, RIP, WCS16\n",
      " - *DemsInPhilly:* DemsInPhilly, DemsinPhilly\n",
      " - *StrongerTogether:* StandTogether, StrongerTogether\n",
      " - *RNCinCLE:* DNCinPHL, GOPinCLE, RNCinCLE, ROGERAILES, Racine\n",
      " - *campaignfinance:* campaignfinance\n",
      " - *FeelTheBern:* BuildTheWall, DefendtheSecond, FeelTheBern, WeAreBernie\n",
      " - *StoptheHate:* CripTheVote, DisarmHate, GOPDebate, LoneStarState, StoptheHate, goodtrouble, holdthefloor\n",
      " - *Trump:* CA4Trump, Cruz, Enough, Prince, Rubio, TeamUSA, Trump, Trump2016, TrumpNV, TrumpTrain, TrumpWaikiki, TrumpWon, Utah4Trump, brexit, trump, trump2016\n",
      " - *Clinton:* CBNNews, ChangeAgents, Clinton, ClintonKaine, CommonLaw, ElectionDay, Filibuster, KenLangone, LyingTed, MaitnerStrong, Orlando, WashingtonDC, Wisconsin, sitin, slipping\n",
      " - *AsLongAsItTakes:* AsLongAsItTakes\n",
      " - *EndGunViolence:* EndGunViolence, NoMoreSilence, gunviolence\n",
      " - *OrlandoUnited:* CitizensUnited, OrlandoUnited\n",
      " - *CAPrimary:* AZPrimary, ArizonaPrimary, CAPrimary, CTPrimary, CrookedHillary, DEPrimary, INPrimary, MDPrimary, NHPrimary, NYPrimary, NebraskaPrimary, NeverHillary, ORPrimary, ObamaCare, PAPrimary, PrimaryDay, RIPrimary, SCPrimary, UtahPrimary, WIPrimary, primary\n",
      " - *MothersoftheMovement:* MothersoftheMovement\n",
      " - *HillaryOnGMA:* Hillary2016, HillaryClinton, HillaryOnGMA\n",
      " - *NeverCruz:* DivoDeJuarez, NeilCavuto, NeverCruz, NeverDems, NeverForget, TedCruz, jenniferrubin\n",
      " - *UTCaucus:* IACaucus, IowaCaucus, KansasCaucus, NevadaCaucus, UTCaucus, UtahCaucus\n",
      " - *AmericanSamoa:* AmericaFirst, AmericanSamoa\n",
      " - *UT:* 1, 2A, ADA, AZ, LGBT, NATO, POTUS, RNC, SCOTUS, TBT, TPP, UT, Utah, WH\n",
      " - *SuperTuesday:* SuperBowlSunday, SuperSaturday, SuperTuesday, WesternTuesday\n",
      " - *EndCommonCore:* EndCommonCore, StopCommonCore\n",
      " - *Mahalo:* Benghazi, DavidCameron, EauClaire, Elkhart, GIBill, JimmyFallon, Mahalo, MattSchlapp, Mexico, MichaelBrown, MichaelMoore, NaturalBorn, Wausau, smallbiz, taxplan\n",
      " - *MAKEAMERICAGREATAGAIN:* MAKEAMERICAGREATAGAIN\n",
      " - *Ford:* FAIL, FITN, Ford, Fox, FoxNews, Jobs, Jonas, Mormon, Polls, SB50, TheDonald, enough, iVoted\n",
      " - *Carrier:* Carrier, Colbert, Hannity, JuanGabriel, LaborDay, LaurenceTribe, LawandOrder, WattersWorld\n",
      " - *NewYork:* NewDay, NewHampshire, NewYork, NewYorkValues, NoBillNoBreak\n",
      " - *With_Cruz_you_lose:* With_Cruz_you_lose\n",
      " - *MaryBrigidMcManamon:* MaryBrigidMcManamon\n",
      " - *IAPolitics:* IAPolitics, NHPolitics, Politician\n"
     ]
    }
   ],
   "source": [
    "import numpy as np\n",
    "import sklearn.cluster\n",
    "import distance\n",
    "import csv\n",
    "\n",
    "inpute = open(\"/home/franko/Downloads/noduplicates.csv\",\"r\")\n",
    "reader=csv.reader(inpute, delimiter=\";\")\n",
    "output=open(\"/home/franko/DBS Projekt/cluster.csv\", \"w\")\n",
    "writer= csv.writer(output)\n",
    "column= []\n",
    "for row in reader:\n",
    "\tcolumn.append(row[0])\n",
    "  \n",
    "\n",
    "words = np.asarray(column) #zum indizieren der Liste\n",
    "lev = -1*np.array([[distance.levenshtein(w1,w2) for w1 in words] for w2\n",
    "in words])#levenshtein distanz vergleich mit allen woertern\n",
    "\n",
    "ap = sklearn.cluster.AffinityPropagation(affinity=\"precomputed\", damping=0.5)#aehnlich wie kmeans\n",
    "ap.fit(lev)\n",
    "for cluster_id in np.unique(ap.labels_):\n",
    "    exemplar = words[ap.cluster_centers_indices_[cluster_id]]\n",
    "    cluster = np.unique(words[np.nonzero(ap.labels_==cluster_id)])\n",
    "    cluster_str = \", \".join(cluster)\n",
    "    writer.writerow([\" - *%s:* %s\" % (exemplar, cluster_str)])\n",
    "    print(\" - *%s:* %s\" % (exemplar, cluster_str))"
   ]
  }
 ],
 "metadata": {
  "kernelspec": {
   "display_name": "Python 2",
   "language": "python",
   "name": "python2"
  },
  "language_info": {
   "codemirror_mode": {
    "name": "ipython",
    "version": 2
   },
   "file_extension": ".py",
   "mimetype": "text/x-python",
   "name": "python",
   "nbconvert_exporter": "python",
   "pygments_lexer": "ipython2",
   "version": "2.7.12"
  }
 },
 "nbformat": 4,
 "nbformat_minor": 2
}
